{
 "cells": [
  {
   "cell_type": "markdown",
   "id": "ff6e108b-7d02-4e70-b683-6c41f5e8ac34",
   "metadata": {},
   "source": [
    "DATA PIPELINE"
   ]
  },
  {
   "cell_type": "code",
   "execution_count": 1,
   "id": "fdbec8ef-f9a3-4f45-94bf-0c830a6725ad",
   "metadata": {},
   "outputs": [],
   "source": [
    "import cv2\n",
    "import numpy as np\n",
    "import pandas as pd\n",
    "import matplotlib.pyplot as plt\n",
    "import tensorflow as tf\n",
    "from tensorflow.keras.applications import MobileNetV2\n",
    "from tensorflow.keras.layers import Dense, GlobalAveragePooling2D, Input, Dropout, Conv2D\n",
    "from tensorflow.keras.models import Model\n",
    "from tensorflow.keras.optimizers import Adam\n",
    "from tensorflow.keras.callbacks import ModelCheckpoint, EarlyStopping, ReduceLROnPlateau\n",
    "from tensorflow.keras import regularizers\n",
    "from sklearn.model_selection import train_test_split\n",
    "from sklearn.metrics import classification_report, confusion_matrix\n",
    "import seaborn as sns"
   ]
  },
  {
   "cell_type": "code",
   "execution_count": 2,
   "id": "56456979-52d4-49d4-a2bb-8d6d0f055278",
   "metadata": {},
   "outputs": [],
   "source": [
    "test_data = pd.read_csv(\"./Fashion-MNIST/fashion-mnist_test.csv\",sep = ',' , header =0 , index_col = None\n",
    "            , dtype = int )\n",
    "train_data = pd.read_csv(\"./Fashion-MNIST/fashion-mnist_train.csv\",sep = ',' , header =0 , index_col = None\n",
    "            , dtype = int )"
   ]
  },
  {
   "cell_type": "code",
   "execution_count": 3,
   "id": "4072f9d2-c443-4191-904a-f3ff3d0ac1f7",
   "metadata": {},
   "outputs": [
    {
     "name": "stderr",
     "output_type": "stream",
     "text": [
      "2025-05-25 02:43:12.087415: I metal_plugin/src/device/metal_device.cc:1154] Metal device set to: Apple M3\n",
      "2025-05-25 02:43:12.087615: I metal_plugin/src/device/metal_device.cc:296] systemMemory: 8.00 GB\n",
      "2025-05-25 02:43:12.087635: I metal_plugin/src/device/metal_device.cc:313] maxCacheSize: 2.67 GB\n",
      "2025-05-25 02:43:12.087987: I tensorflow/core/common_runtime/pluggable_device/pluggable_device_factory.cc:305] Could not identify NUMA node of platform GPU ID 0, defaulting to 0. Your kernel may not have been built with NUMA support.\n",
      "2025-05-25 02:43:12.088010: I tensorflow/core/common_runtime/pluggable_device/pluggable_device_factory.cc:271] Created TensorFlow device (/job:localhost/replica:0/task:0/device:GPU:0 with 0 MB memory) -> physical PluggableDevice (device: 0, name: METAL, pci bus id: <undefined>)\n"
     ]
    }
   ],
   "source": [
    "X_raw = train_data.drop('label', axis=1).values / 255.0\n",
    "Y_raw = train_data['label'].values\n",
    "\n",
    "# Split into training and validation (80/20)\n",
    "X_train, X_val, Y_train, Y_val = train_test_split(X_raw, Y_raw, test_size=0.2, random_state=42)\n",
    "\n",
    "# Reshape into (n, 28, 28, 1)\n",
    "X_train = X_train.reshape(-1, 28, 28, 1)\n",
    "X_val = X_val.reshape(-1, 28, 28, 1)\n",
    "\n",
    "# Data augmentation\n",
    "def augment(image, label):\n",
    "    \"\"\"Apply random augmentations to training images.\"\"\"\n",
    "    image = tf.image.random_flip_left_right(image)\n",
    "    image = tf.image.random_flip_up_down(image)\n",
    "    image = tf.image.random_brightness(image, max_delta=0.1)\n",
    "    return image, label\n",
    "\n",
    "# Preprocessing\n",
    "def preprocess(image, label):\n",
    "    \"\"\"Resize image to 224x224 and convert label to one-hot.\"\"\"\n",
    "    image = tf.image.resize(image, [224, 224])  # Keep 1-channel (grayscale)\n",
    "    label = tf.one_hot(label, depth=10)  # Convert to one-hot for 10 classes\n",
    "    return image, label\n",
    "\n",
    "# Create datasets\n",
    "BATCH_SIZE = 32\n",
    "train_ds = tf.data.Dataset.from_tensor_slices((X_train, Y_train))\n",
    "train_ds = train_ds.map(preprocess, num_parallel_calls=tf.data.AUTOTUNE)\n",
    "train_ds = train_ds.map(augment, num_parallel_calls=tf.data.AUTOTUNE)\n",
    "train_ds = train_ds.cache().shuffle(1000).batch(BATCH_SIZE, drop_remainder=True).prefetch(tf.data.AUTOTUNE)\n",
    "\n",
    "val_ds = tf.data.Dataset.from_tensor_slices((X_val, Y_val))\n",
    "val_ds = val_ds.map(preprocess, num_parallel_calls=tf.data.AUTOTUNE)\n",
    "val_ds = val_ds.cache().batch(BATCH_SIZE, drop_remainder=True).prefetch(tf.data.AUTOTUNE)"
   ]
  },
  {
   "cell_type": "markdown",
   "id": "4a453c6e-afcc-490c-bbad-29db345cb54e",
   "metadata": {},
   "source": [
    "MODEL"
   ]
  },
  {
   "cell_type": "code",
   "execution_count": 4,
   "id": "5b034733-e2bd-4226-af73-f986a19a701a",
   "metadata": {},
   "outputs": [
    {
     "name": "stdout",
     "output_type": "stream",
     "text": [
      "Image batch shape: (32, 224, 224, 1), Label batch shape: (32, 10)\n"
     ]
    },
    {
     "name": "stderr",
     "output_type": "stream",
     "text": [
      "2025-05-25 02:43:12.501160: W tensorflow/core/kernels/data/cache_dataset_ops.cc:858] The calling iterator did not fully read the dataset being cached. In order to avoid unexpected truncation of the dataset, the partially cached contents of the dataset  will be discarded. This can happen if you have an input pipeline similar to `dataset.cache().take(k).repeat()`. You should use `dataset.take(k).cache().repeat()` instead.\n",
      "2025-05-25 02:43:12.507932: W tensorflow/core/framework/local_rendezvous.cc:404] Local rendezvous is aborting with status: OUT_OF_RANGE: End of sequence\n"
     ]
    }
   ],
   "source": [
    "\n",
    "# Verify dataset shapes\n",
    "for images, labels in train_ds.take(1):\n",
    "    print(f\"Image batch shape: {images.shape}, Label batch shape: {labels.shape}\")\n",
    "    assert images.shape == (BATCH_SIZE, 224, 224, 1), \"Incorrect image shape (expected 1 channel)\"\n",
    "    assert labels.shape == (BATCH_SIZE, 10), \"Incorrect label shape (expected one-hot)\"\n"
   ]
  },
  {
   "cell_type": "code",
   "execution_count": 5,
   "id": "7acfb450-b263-4f75-aa73-dd2a77c3753f",
   "metadata": {},
   "outputs": [],
   "source": [
    "# Model: Initial Training\n",
    "model_input = Input(shape=(224, 224, 1), name='input_layer')\n",
    "x = Conv2D(3, (1, 1), activation='linear', trainable=True, name='channel_adapter')(model_input)\n",
    "base_model = MobileNetV2(weights='imagenet', include_top=False, input_shape=(224, 224, 3))\n",
    "base_model.trainable = False\n",
    "\n",
    "x = base_model(x, training=False)\n",
    "x = GlobalAveragePooling2D(name='global_avg_pool')(x)\n",
    "x = Dropout(0.5, name='dropout_head')(x)\n",
    "x = Dense(128, activation='relu', kernel_regularizer=regularizers.l2(0.001), name='dense_head')(x)\n",
    "output = Dense(10, activation='softmax', dtype='float32', name='output')(x)\n",
    "\n",
    "model = Model(inputs=model_input, outputs=output)\n",
    "\n",
    "# Compile model\n",
    "model.compile(\n",
    "    optimizer=Adam(1e-4),\n",
    "    loss=tf.keras.losses.CategoricalCrossentropy(from_logits=False),\n",
    "    metrics=[\n",
    "        'accuracy',\n",
    "        tf.keras.metrics.Precision(name='precision'),\n",
    "        tf.keras.metrics.Recall(name='recall'),\n",
    "        tf.keras.metrics.TopKCategoricalAccuracy(k=1, name='top_1_accuracy')\n",
    "    ]\n",
    ")\n",
    "\n",
    "# Callbacks\n",
    "checkpoint = ModelCheckpoint('best_model_head.h5', monitor='val_accuracy', save_best_only=True, mode='max')\n",
    "early_stop = EarlyStopping(monitor='val_accuracy', patience=3, restore_best_weights=True)"
   ]
  },
  {
   "cell_type": "code",
   "execution_count": 6,
   "id": "a6f73671-159e-45ed-9db1-ad8a2566eb2e",
   "metadata": {},
   "outputs": [
    {
     "name": "stdout",
     "output_type": "stream",
     "text": [
      "Training head...\n",
      "Epoch 1/5\n"
     ]
    },
    {
     "name": "stderr",
     "output_type": "stream",
     "text": [
      "2025-05-25 02:43:13.989387: I tensorflow/core/grappler/optimizers/custom_graph_optimizer_registry.cc:117] Plugin optimizer for device_type GPU is enabled.\n",
      "2025-05-25 02:43:13.992474: E tensorflow/core/grappler/optimizers/meta_optimizer.cc:961] PluggableGraphOptimizer failed: INVALID_ARGUMENT: Failed to deserialize the `graph_buf`.\n"
     ]
    },
    {
     "name": "stdout",
     "output_type": "stream",
     "text": [
      "\u001b[1m1500/1500\u001b[0m \u001b[32m━━━━━━━━━━━━━━━━━━━━\u001b[0m\u001b[37m\u001b[0m \u001b[1m0s\u001b[0m 252ms/step - accuracy: 0.5688 - loss: 1.4771 - precision: 0.7517 - recall: 0.4172 - top_1_accuracy: 0.5688"
     ]
    },
    {
     "name": "stderr",
     "output_type": "stream",
     "text": [
      "2025-05-25 02:49:34.500135: E tensorflow/core/grappler/optimizers/meta_optimizer.cc:961] PluggableGraphOptimizer failed: INVALID_ARGUMENT: Failed to deserialize the `graph_buf`.\n",
      "WARNING:absl:You are saving your model as an HDF5 file via `model.save()` or `keras.saving.save_model(model)`. This file format is considered legacy. We recommend using instead the native Keras format, e.g. `model.save('my_model.keras')` or `keras.saving.save_model(model, 'my_model.keras')`. \n"
     ]
    },
    {
     "name": "stdout",
     "output_type": "stream",
     "text": [
      "\u001b[1m1500/1500\u001b[0m \u001b[32m━━━━━━━━━━━━━━━━━━━━\u001b[0m\u001b[37m\u001b[0m \u001b[1m433s\u001b[0m 287ms/step - accuracy: 0.5689 - loss: 1.4768 - precision: 0.7517 - recall: 0.4174 - top_1_accuracy: 0.5689 - val_accuracy: 0.8262 - val_loss: 0.6847 - val_precision: 0.8708 - val_recall: 0.7830 - val_top_1_accuracy: 0.8262\n",
      "Epoch 2/5\n",
      "\u001b[1m1500/1500\u001b[0m \u001b[32m━━━━━━━━━━━━━━━━━━━━\u001b[0m\u001b[37m\u001b[0m \u001b[1m0s\u001b[0m 271ms/step - accuracy: 0.7972 - loss: 0.7658 - precision: 0.8475 - recall: 0.7460 - top_1_accuracy: 0.7972"
     ]
    },
    {
     "name": "stderr",
     "output_type": "stream",
     "text": [
      "WARNING:absl:You are saving your model as an HDF5 file via `model.save()` or `keras.saving.save_model(model)`. This file format is considered legacy. We recommend using instead the native Keras format, e.g. `model.save('my_model.keras')` or `keras.saving.save_model(model, 'my_model.keras')`. \n"
     ]
    },
    {
     "name": "stdout",
     "output_type": "stream",
     "text": [
      "\u001b[1m1500/1500\u001b[0m \u001b[32m━━━━━━━━━━━━━━━━━━━━\u001b[0m\u001b[37m\u001b[0m \u001b[1m456s\u001b[0m 304ms/step - accuracy: 0.7972 - loss: 0.7658 - precision: 0.8475 - recall: 0.7460 - top_1_accuracy: 0.7972 - val_accuracy: 0.8471 - val_loss: 0.6034 - val_precision: 0.8825 - val_recall: 0.8107 - val_top_1_accuracy: 0.8471\n",
      "Epoch 3/5\n",
      "\u001b[1m1500/1500\u001b[0m \u001b[32m━━━━━━━━━━━━━━━━━━━━\u001b[0m\u001b[37m\u001b[0m \u001b[1m0s\u001b[0m 262ms/step - accuracy: 0.8181 - loss: 0.6886 - precision: 0.8590 - recall: 0.7745 - top_1_accuracy: 0.8181"
     ]
    },
    {
     "name": "stderr",
     "output_type": "stream",
     "text": [
      "WARNING:absl:You are saving your model as an HDF5 file via `model.save()` or `keras.saving.save_model(model)`. This file format is considered legacy. We recommend using instead the native Keras format, e.g. `model.save('my_model.keras')` or `keras.saving.save_model(model, 'my_model.keras')`. \n"
     ]
    },
    {
     "name": "stdout",
     "output_type": "stream",
     "text": [
      "\u001b[1m1500/1500\u001b[0m \u001b[32m━━━━━━━━━━━━━━━━━━━━\u001b[0m\u001b[37m\u001b[0m \u001b[1m442s\u001b[0m 295ms/step - accuracy: 0.8181 - loss: 0.6886 - precision: 0.8590 - recall: 0.7745 - top_1_accuracy: 0.8181 - val_accuracy: 0.8512 - val_loss: 0.5627 - val_precision: 0.8859 - val_recall: 0.8190 - val_top_1_accuracy: 0.8512\n",
      "Epoch 4/5\n",
      "\u001b[1m1500/1500\u001b[0m \u001b[32m━━━━━━━━━━━━━━━━━━━━\u001b[0m\u001b[37m\u001b[0m \u001b[1m0s\u001b[0m 246ms/step - accuracy: 0.8245 - loss: 0.6434 - precision: 0.8661 - recall: 0.7824 - top_1_accuracy: 0.8245"
     ]
    },
    {
     "name": "stderr",
     "output_type": "stream",
     "text": [
      "WARNING:absl:You are saving your model as an HDF5 file via `model.save()` or `keras.saving.save_model(model)`. This file format is considered legacy. We recommend using instead the native Keras format, e.g. `model.save('my_model.keras')` or `keras.saving.save_model(model, 'my_model.keras')`. \n"
     ]
    },
    {
     "name": "stdout",
     "output_type": "stream",
     "text": [
      "\u001b[1m1500/1500\u001b[0m \u001b[32m━━━━━━━━━━━━━━━━━━━━\u001b[0m\u001b[37m\u001b[0m \u001b[1m416s\u001b[0m 277ms/step - accuracy: 0.8245 - loss: 0.6434 - precision: 0.8661 - recall: 0.7824 - top_1_accuracy: 0.8245 - val_accuracy: 0.8558 - val_loss: 0.5370 - val_precision: 0.8906 - val_recall: 0.8240 - val_top_1_accuracy: 0.8558\n",
      "Epoch 5/5\n",
      "\u001b[1m1500/1500\u001b[0m \u001b[32m━━━━━━━━━━━━━━━━━━━━\u001b[0m\u001b[37m\u001b[0m \u001b[1m2108s\u001b[0m 1s/step - accuracy: 0.8297 - loss: 0.6127 - precision: 0.8694 - recall: 0.7903 - top_1_accuracy: 0.8297 - val_accuracy: 0.8551 - val_loss: 0.5265 - val_precision: 0.8875 - val_recall: 0.8227 - val_top_1_accuracy: 0.8551\n"
     ]
    }
   ],
   "source": [
    "# Train head\n",
    "print(\"Training head...\")\n",
    "history_head = model.fit(train_ds, validation_data=val_ds, epochs=5, callbacks=[checkpoint, early_stop])\n"
   ]
  },
  {
   "cell_type": "code",
   "execution_count": 7,
   "id": "952fbd38-24aa-4eed-8b49-649263d1c714",
   "metadata": {},
   "outputs": [
    {
     "name": "stdout",
     "output_type": "stream",
     "text": [
      "Preparing fine-tuning...\n",
      "Experiment: Dropout=0.3, Weight Decay=0.0001\n",
      "Epoch 1/5\n"
     ]
    },
    {
     "name": "stderr",
     "output_type": "stream",
     "text": [
      "2025-05-25 03:47:31.511995: E tensorflow/core/grappler/optimizers/meta_optimizer.cc:961] PluggableGraphOptimizer failed: INVALID_ARGUMENT: Failed to deserialize the `graph_buf`.\n"
     ]
    },
    {
     "name": "stdout",
     "output_type": "stream",
     "text": [
      "\u001b[1m1500/1500\u001b[0m \u001b[32m━━━━━━━━━━━━━━━━━━━━\u001b[0m\u001b[37m\u001b[0m \u001b[1m0s\u001b[0m 300ms/step - accuracy: 0.6008 - loss: 1.2259 - precision: 0.8330 - recall: 0.3846 - top_1_accuracy: 0.6008"
     ]
    },
    {
     "name": "stderr",
     "output_type": "stream",
     "text": [
      "2025-05-25 03:55:08.040369: E tensorflow/core/grappler/optimizers/meta_optimizer.cc:961] PluggableGraphOptimizer failed: INVALID_ARGUMENT: Failed to deserialize the `graph_buf`.\n",
      "WARNING:absl:You are saving your model as an HDF5 file via `model.save()` or `keras.saving.save_model(model)`. This file format is considered legacy. We recommend using instead the native Keras format, e.g. `model.save('my_model.keras')` or `keras.saving.save_model(model, 'my_model.keras')`. \n"
     ]
    },
    {
     "name": "stdout",
     "output_type": "stream",
     "text": [
      "\u001b[1m1500/1500\u001b[0m \u001b[32m━━━━━━━━━━━━━━━━━━━━\u001b[0m\u001b[37m\u001b[0m \u001b[1m514s\u001b[0m 338ms/step - accuracy: 0.6008 - loss: 1.2256 - precision: 0.8331 - recall: 0.3847 - top_1_accuracy: 0.6008 - val_accuracy: 0.8203 - val_loss: 0.5067 - val_precision: 0.8649 - val_recall: 0.7780 - val_top_1_accuracy: 0.8203 - learning_rate: 1.0000e-05\n",
      "Epoch 2/5\n",
      "\u001b[1m1500/1500\u001b[0m \u001b[32m━━━━━━━━━━━━━━━━━━━━\u001b[0m\u001b[37m\u001b[0m \u001b[1m0s\u001b[0m 313ms/step - accuracy: 0.8312 - loss: 0.4996 - precision: 0.8762 - recall: 0.7864 - top_1_accuracy: 0.8312"
     ]
    },
    {
     "name": "stderr",
     "output_type": "stream",
     "text": [
      "WARNING:absl:You are saving your model as an HDF5 file via `model.save()` or `keras.saving.save_model(model)`. This file format is considered legacy. We recommend using instead the native Keras format, e.g. `model.save('my_model.keras')` or `keras.saving.save_model(model, 'my_model.keras')`. \n"
     ]
    },
    {
     "name": "stdout",
     "output_type": "stream",
     "text": [
      "\u001b[1m1500/1500\u001b[0m \u001b[32m━━━━━━━━━━━━━━━━━━━━\u001b[0m\u001b[37m\u001b[0m \u001b[1m523s\u001b[0m 348ms/step - accuracy: 0.8312 - loss: 0.4995 - precision: 0.8762 - recall: 0.7864 - top_1_accuracy: 0.8312 - val_accuracy: 0.8683 - val_loss: 0.3864 - val_precision: 0.8958 - val_recall: 0.8423 - val_top_1_accuracy: 0.8683 - learning_rate: 1.0000e-05\n",
      "Epoch 3/5\n",
      "\u001b[1m1500/1500\u001b[0m \u001b[32m━━━━━━━━━━━━━━━━━━━━\u001b[0m\u001b[37m\u001b[0m \u001b[1m0s\u001b[0m 315ms/step - accuracy: 0.8623 - loss: 0.4082 - precision: 0.8945 - recall: 0.8338 - top_1_accuracy: 0.8623"
     ]
    },
    {
     "name": "stderr",
     "output_type": "stream",
     "text": [
      "WARNING:absl:You are saving your model as an HDF5 file via `model.save()` or `keras.saving.save_model(model)`. This file format is considered legacy. We recommend using instead the native Keras format, e.g. `model.save('my_model.keras')` or `keras.saving.save_model(model, 'my_model.keras')`. \n"
     ]
    },
    {
     "name": "stdout",
     "output_type": "stream",
     "text": [
      "\u001b[1m1500/1500\u001b[0m \u001b[32m━━━━━━━━━━━━━━━━━━━━\u001b[0m\u001b[37m\u001b[0m \u001b[1m526s\u001b[0m 351ms/step - accuracy: 0.8623 - loss: 0.4082 - precision: 0.8945 - recall: 0.8339 - top_1_accuracy: 0.8623 - val_accuracy: 0.8840 - val_loss: 0.3440 - val_precision: 0.9066 - val_recall: 0.8642 - val_top_1_accuracy: 0.8840 - learning_rate: 1.0000e-05\n",
      "Epoch 4/5\n",
      "\u001b[1m1500/1500\u001b[0m \u001b[32m━━━━━━━━━━━━━━━━━━━━\u001b[0m\u001b[37m\u001b[0m \u001b[1m0s\u001b[0m 306ms/step - accuracy: 0.8816 - loss: 0.3559 - precision: 0.9062 - recall: 0.8582 - top_1_accuracy: 0.8816"
     ]
    },
    {
     "name": "stderr",
     "output_type": "stream",
     "text": [
      "WARNING:absl:You are saving your model as an HDF5 file via `model.save()` or `keras.saving.save_model(model)`. This file format is considered legacy. We recommend using instead the native Keras format, e.g. `model.save('my_model.keras')` or `keras.saving.save_model(model, 'my_model.keras')`. \n"
     ]
    },
    {
     "name": "stdout",
     "output_type": "stream",
     "text": [
      "\u001b[1m1500/1500\u001b[0m \u001b[32m━━━━━━━━━━━━━━━━━━━━\u001b[0m\u001b[37m\u001b[0m \u001b[1m512s\u001b[0m 341ms/step - accuracy: 0.8816 - loss: 0.3559 - precision: 0.9062 - recall: 0.8582 - top_1_accuracy: 0.8816 - val_accuracy: 0.8935 - val_loss: 0.3219 - val_precision: 0.9108 - val_recall: 0.8771 - val_top_1_accuracy: 0.8935 - learning_rate: 1.0000e-05\n",
      "Epoch 5/5\n",
      "\u001b[1m1500/1500\u001b[0m \u001b[32m━━━━━━━━━━━━━━━━━━━━\u001b[0m\u001b[37m\u001b[0m \u001b[1m0s\u001b[0m 307ms/step - accuracy: 0.8977 - loss: 0.3189 - precision: 0.9185 - recall: 0.8763 - top_1_accuracy: 0.8977"
     ]
    },
    {
     "name": "stderr",
     "output_type": "stream",
     "text": [
      "WARNING:absl:You are saving your model as an HDF5 file via `model.save()` or `keras.saving.save_model(model)`. This file format is considered legacy. We recommend using instead the native Keras format, e.g. `model.save('my_model.keras')` or `keras.saving.save_model(model, 'my_model.keras')`. \n"
     ]
    },
    {
     "name": "stdout",
     "output_type": "stream",
     "text": [
      "\u001b[1m1500/1500\u001b[0m \u001b[32m━━━━━━━━━━━━━━━━━━━━\u001b[0m\u001b[37m\u001b[0m \u001b[1m513s\u001b[0m 342ms/step - accuracy: 0.8977 - loss: 0.3189 - precision: 0.9185 - recall: 0.8763 - top_1_accuracy: 0.8977 - val_accuracy: 0.8997 - val_loss: 0.3061 - val_precision: 0.9155 - val_recall: 0.8838 - val_top_1_accuracy: 0.8997 - learning_rate: 1.0000e-05\n"
     ]
    },
    {
     "name": "stderr",
     "output_type": "stream",
     "text": [
      "WARNING:absl:You are saving your model as an HDF5 file via `model.save()` or `keras.saving.save_model(model)`. This file format is considered legacy. We recommend using instead the native Keras format, e.g. `model.save('my_model.keras')` or `keras.saving.save_model(model, 'my_model.keras')`. \n"
     ]
    },
    {
     "name": "stdout",
     "output_type": "stream",
     "text": [
      "Experiment: Dropout=0.3, Weight Decay=0.001\n",
      "Epoch 1/5\n"
     ]
    },
    {
     "name": "stderr",
     "output_type": "stream",
     "text": [
      "2025-05-25 04:30:38.606182: E tensorflow/core/grappler/optimizers/meta_optimizer.cc:961] PluggableGraphOptimizer failed: INVALID_ARGUMENT: Failed to deserialize the `graph_buf`.\n"
     ]
    },
    {
     "name": "stdout",
     "output_type": "stream",
     "text": [
      "\u001b[1m1500/1500\u001b[0m \u001b[32m━━━━━━━━━━━━━━━━━━━━\u001b[0m\u001b[37m\u001b[0m \u001b[1m0s\u001b[0m 305ms/step - accuracy: 0.6809 - loss: 1.2181 - precision: 0.8521 - recall: 0.5090 - top_1_accuracy: 0.6809"
     ]
    },
    {
     "name": "stderr",
     "output_type": "stream",
     "text": [
      "2025-05-25 04:38:21.786023: E tensorflow/core/grappler/optimizers/meta_optimizer.cc:961] PluggableGraphOptimizer failed: INVALID_ARGUMENT: Failed to deserialize the `graph_buf`.\n",
      "WARNING:absl:You are saving your model as an HDF5 file via `model.save()` or `keras.saving.save_model(model)`. This file format is considered legacy. We recommend using instead the native Keras format, e.g. `model.save('my_model.keras')` or `keras.saving.save_model(model, 'my_model.keras')`. \n"
     ]
    },
    {
     "name": "stdout",
     "output_type": "stream",
     "text": [
      "\u001b[1m1500/1500\u001b[0m \u001b[32m━━━━━━━━━━━━━━━━━━━━\u001b[0m\u001b[37m\u001b[0m \u001b[1m518s\u001b[0m 341ms/step - accuracy: 0.6809 - loss: 1.2178 - precision: 0.8521 - recall: 0.5091 - top_1_accuracy: 0.6809 - val_accuracy: 0.8831 - val_loss: 0.5551 - val_precision: 0.9048 - val_recall: 0.8597 - val_top_1_accuracy: 0.8831 - learning_rate: 1.0000e-05\n",
      "Epoch 2/5\n",
      "\u001b[1m1500/1500\u001b[0m \u001b[32m━━━━━━━━━━━━━━━━━━━━\u001b[0m\u001b[37m\u001b[0m \u001b[1m0s\u001b[0m 430ms/step - accuracy: 0.8776 - loss: 0.5792 - precision: 0.9060 - recall: 0.8522 - top_1_accuracy: 0.8776"
     ]
    },
    {
     "name": "stderr",
     "output_type": "stream",
     "text": [
      "WARNING:absl:You are saving your model as an HDF5 file via `model.save()` or `keras.saving.save_model(model)`. This file format is considered legacy. We recommend using instead the native Keras format, e.g. `model.save('my_model.keras')` or `keras.saving.save_model(model, 'my_model.keras')`. \n"
     ]
    },
    {
     "name": "stdout",
     "output_type": "stream",
     "text": [
      "\u001b[1m1500/1500\u001b[0m \u001b[32m━━━━━━━━━━━━━━━━━━━━\u001b[0m\u001b[37m\u001b[0m \u001b[1m779s\u001b[0m 519ms/step - accuracy: 0.8776 - loss: 0.5792 - precision: 0.9060 - recall: 0.8522 - top_1_accuracy: 0.8776 - val_accuracy: 0.8968 - val_loss: 0.5147 - val_precision: 0.9135 - val_recall: 0.8828 - val_top_1_accuracy: 0.8968 - learning_rate: 1.0000e-05\n",
      "Epoch 3/5\n",
      "\u001b[1m1500/1500\u001b[0m \u001b[32m━━━━━━━━━━━━━━━━━━━━\u001b[0m\u001b[37m\u001b[0m \u001b[1m0s\u001b[0m 2s/step - accuracy: 0.8953 - loss: 0.5204 - precision: 0.9175 - recall: 0.8765 - top_1_accuracy: 0.8953"
     ]
    },
    {
     "name": "stderr",
     "output_type": "stream",
     "text": [
      "WARNING:absl:You are saving your model as an HDF5 file via `model.save()` or `keras.saving.save_model(model)`. This file format is considered legacy. We recommend using instead the native Keras format, e.g. `model.save('my_model.keras')` or `keras.saving.save_model(model, 'my_model.keras')`. \n"
     ]
    },
    {
     "name": "stdout",
     "output_type": "stream",
     "text": [
      "\u001b[1m1500/1500\u001b[0m \u001b[32m━━━━━━━━━━━━━━━━━━━━\u001b[0m\u001b[37m\u001b[0m \u001b[1m3735s\u001b[0m 2s/step - accuracy: 0.8953 - loss: 0.5204 - precision: 0.9175 - recall: 0.8766 - top_1_accuracy: 0.8953 - val_accuracy: 0.9043 - val_loss: 0.4910 - val_precision: 0.9191 - val_recall: 0.8924 - val_top_1_accuracy: 0.9043 - learning_rate: 1.0000e-05\n",
      "Epoch 4/5\n",
      "\u001b[1m1500/1500\u001b[0m \u001b[32m━━━━━━━━━━━━━━━━━━━━\u001b[0m\u001b[37m\u001b[0m \u001b[1m0s\u001b[0m 263ms/step - accuracy: 0.9102 - loss: 0.4801 - precision: 0.9266 - recall: 0.8941 - top_1_accuracy: 0.9102"
     ]
    },
    {
     "name": "stderr",
     "output_type": "stream",
     "text": [
      "WARNING:absl:You are saving your model as an HDF5 file via `model.save()` or `keras.saving.save_model(model)`. This file format is considered legacy. We recommend using instead the native Keras format, e.g. `model.save('my_model.keras')` or `keras.saving.save_model(model, 'my_model.keras')`. \n"
     ]
    },
    {
     "name": "stdout",
     "output_type": "stream",
     "text": [
      "\u001b[1m1500/1500\u001b[0m \u001b[32m━━━━━━━━━━━━━━━━━━━━\u001b[0m\u001b[37m\u001b[0m \u001b[1m441s\u001b[0m 294ms/step - accuracy: 0.9102 - loss: 0.4801 - precision: 0.9266 - recall: 0.8941 - top_1_accuracy: 0.9102 - val_accuracy: 0.9080 - val_loss: 0.4792 - val_precision: 0.9219 - val_recall: 0.8975 - val_top_1_accuracy: 0.9080 - learning_rate: 1.0000e-05\n",
      "Epoch 5/5\n",
      "\u001b[1m1500/1500\u001b[0m \u001b[32m━━━━━━━━━━━━━━━━━━━━\u001b[0m\u001b[37m\u001b[0m \u001b[1m0s\u001b[0m 275ms/step - accuracy: 0.9194 - loss: 0.4493 - precision: 0.9351 - recall: 0.9048 - top_1_accuracy: 0.9194"
     ]
    },
    {
     "name": "stderr",
     "output_type": "stream",
     "text": [
      "WARNING:absl:You are saving your model as an HDF5 file via `model.save()` or `keras.saving.save_model(model)`. This file format is considered legacy. We recommend using instead the native Keras format, e.g. `model.save('my_model.keras')` or `keras.saving.save_model(model, 'my_model.keras')`. \n"
     ]
    },
    {
     "name": "stdout",
     "output_type": "stream",
     "text": [
      "\u001b[1m1500/1500\u001b[0m \u001b[32m━━━━━━━━━━━━━━━━━━━━\u001b[0m\u001b[37m\u001b[0m \u001b[1m462s\u001b[0m 308ms/step - accuracy: 0.9194 - loss: 0.4493 - precision: 0.9351 - recall: 0.9048 - top_1_accuracy: 0.9194 - val_accuracy: 0.9098 - val_loss: 0.4727 - val_precision: 0.9210 - val_recall: 0.9010 - val_top_1_accuracy: 0.9098 - learning_rate: 1.0000e-05\n"
     ]
    },
    {
     "name": "stderr",
     "output_type": "stream",
     "text": [
      "WARNING:absl:You are saving your model as an HDF5 file via `model.save()` or `keras.saving.save_model(model)`. This file format is considered legacy. We recommend using instead the native Keras format, e.g. `model.save('my_model.keras')` or `keras.saving.save_model(model, 'my_model.keras')`. \n"
     ]
    },
    {
     "name": "stdout",
     "output_type": "stream",
     "text": [
      "Experiment: Dropout=0.4, Weight Decay=0.0001\n",
      "Epoch 1/5\n"
     ]
    },
    {
     "name": "stderr",
     "output_type": "stream",
     "text": [
      "2025-05-25 06:09:33.721543: E tensorflow/core/grappler/optimizers/meta_optimizer.cc:961] PluggableGraphOptimizer failed: INVALID_ARGUMENT: Failed to deserialize the `graph_buf`.\n"
     ]
    },
    {
     "name": "stdout",
     "output_type": "stream",
     "text": [
      "\u001b[1m1500/1500\u001b[0m \u001b[32m━━━━━━━━━━━━━━━━━━━━\u001b[0m\u001b[37m\u001b[0m \u001b[1m0s\u001b[0m 284ms/step - accuracy: 0.6767 - loss: 1.0108 - precision: 0.8735 - recall: 0.4981 - top_1_accuracy: 0.6767"
     ]
    },
    {
     "name": "stderr",
     "output_type": "stream",
     "text": [
      "2025-05-25 06:16:46.338679: E tensorflow/core/grappler/optimizers/meta_optimizer.cc:961] PluggableGraphOptimizer failed: INVALID_ARGUMENT: Failed to deserialize the `graph_buf`.\n",
      "WARNING:absl:You are saving your model as an HDF5 file via `model.save()` or `keras.saving.save_model(model)`. This file format is considered legacy. We recommend using instead the native Keras format, e.g. `model.save('my_model.keras')` or `keras.saving.save_model(model, 'my_model.keras')`. \n"
     ]
    },
    {
     "name": "stdout",
     "output_type": "stream",
     "text": [
      "\u001b[1m1500/1500\u001b[0m \u001b[32m━━━━━━━━━━━━━━━━━━━━\u001b[0m\u001b[37m\u001b[0m \u001b[1m483s\u001b[0m 317ms/step - accuracy: 0.6768 - loss: 1.0105 - precision: 0.8735 - recall: 0.4982 - top_1_accuracy: 0.6768 - val_accuracy: 0.8819 - val_loss: 0.3513 - val_precision: 0.9074 - val_recall: 0.8577 - val_top_1_accuracy: 0.8819 - learning_rate: 1.0000e-05\n",
      "Epoch 2/5\n",
      "\u001b[1m1500/1500\u001b[0m \u001b[32m━━━━━━━━━━━━━━━━━━━━\u001b[0m\u001b[37m\u001b[0m \u001b[1m0s\u001b[0m 280ms/step - accuracy: 0.8767 - loss: 0.3741 - precision: 0.9052 - recall: 0.8500 - top_1_accuracy: 0.8767"
     ]
    },
    {
     "name": "stderr",
     "output_type": "stream",
     "text": [
      "WARNING:absl:You are saving your model as an HDF5 file via `model.save()` or `keras.saving.save_model(model)`. This file format is considered legacy. We recommend using instead the native Keras format, e.g. `model.save('my_model.keras')` or `keras.saving.save_model(model, 'my_model.keras')`. \n"
     ]
    },
    {
     "name": "stdout",
     "output_type": "stream",
     "text": [
      "\u001b[1m1500/1500\u001b[0m \u001b[32m━━━━━━━━━━━━━━━━━━━━\u001b[0m\u001b[37m\u001b[0m \u001b[1m468s\u001b[0m 312ms/step - accuracy: 0.8767 - loss: 0.3741 - precision: 0.9052 - recall: 0.8500 - top_1_accuracy: 0.8767 - val_accuracy: 0.8982 - val_loss: 0.3064 - val_precision: 0.9156 - val_recall: 0.8829 - val_top_1_accuracy: 0.8982 - learning_rate: 1.0000e-05\n",
      "Epoch 3/5\n",
      "\u001b[1m1500/1500\u001b[0m \u001b[32m━━━━━━━━━━━━━━━━━━━━\u001b[0m\u001b[37m\u001b[0m \u001b[1m0s\u001b[0m 281ms/step - accuracy: 0.8951 - loss: 0.3251 - precision: 0.9162 - recall: 0.8744 - top_1_accuracy: 0.8951"
     ]
    },
    {
     "name": "stderr",
     "output_type": "stream",
     "text": [
      "WARNING:absl:You are saving your model as an HDF5 file via `model.save()` or `keras.saving.save_model(model)`. This file format is considered legacy. We recommend using instead the native Keras format, e.g. `model.save('my_model.keras')` or `keras.saving.save_model(model, 'my_model.keras')`. \n"
     ]
    },
    {
     "name": "stdout",
     "output_type": "stream",
     "text": [
      "\u001b[1m1500/1500\u001b[0m \u001b[32m━━━━━━━━━━━━━━━━━━━━\u001b[0m\u001b[37m\u001b[0m \u001b[1m469s\u001b[0m 313ms/step - accuracy: 0.8952 - loss: 0.3251 - precision: 0.9162 - recall: 0.8744 - top_1_accuracy: 0.8952 - val_accuracy: 0.9036 - val_loss: 0.2927 - val_precision: 0.9196 - val_recall: 0.8890 - val_top_1_accuracy: 0.9036 - learning_rate: 1.0000e-05\n",
      "Epoch 4/5\n",
      "\u001b[1m1500/1500\u001b[0m \u001b[32m━━━━━━━━━━━━━━━━━━━━\u001b[0m\u001b[37m\u001b[0m \u001b[1m0s\u001b[0m 283ms/step - accuracy: 0.9033 - loss: 0.2925 - precision: 0.9219 - recall: 0.8872 - top_1_accuracy: 0.9033"
     ]
    },
    {
     "name": "stderr",
     "output_type": "stream",
     "text": [
      "WARNING:absl:You are saving your model as an HDF5 file via `model.save()` or `keras.saving.save_model(model)`. This file format is considered legacy. We recommend using instead the native Keras format, e.g. `model.save('my_model.keras')` or `keras.saving.save_model(model, 'my_model.keras')`. \n"
     ]
    },
    {
     "name": "stdout",
     "output_type": "stream",
     "text": [
      "\u001b[1m1500/1500\u001b[0m \u001b[32m━━━━━━━━━━━━━━━━━━━━\u001b[0m\u001b[37m\u001b[0m \u001b[1m475s\u001b[0m 316ms/step - accuracy: 0.9033 - loss: 0.2925 - precision: 0.9219 - recall: 0.8872 - top_1_accuracy: 0.9033 - val_accuracy: 0.9071 - val_loss: 0.2857 - val_precision: 0.9203 - val_recall: 0.8952 - val_top_1_accuracy: 0.9071 - learning_rate: 1.0000e-05\n",
      "Epoch 5/5\n",
      "\u001b[1m1500/1500\u001b[0m \u001b[32m━━━━━━━━━━━━━━━━━━━━\u001b[0m\u001b[37m\u001b[0m \u001b[1m0s\u001b[0m 285ms/step - accuracy: 0.9107 - loss: 0.2699 - precision: 0.9272 - recall: 0.8970 - top_1_accuracy: 0.9107"
     ]
    },
    {
     "name": "stderr",
     "output_type": "stream",
     "text": [
      "WARNING:absl:You are saving your model as an HDF5 file via `model.save()` or `keras.saving.save_model(model)`. This file format is considered legacy. We recommend using instead the native Keras format, e.g. `model.save('my_model.keras')` or `keras.saving.save_model(model, 'my_model.keras')`. \n"
     ]
    },
    {
     "name": "stdout",
     "output_type": "stream",
     "text": [
      "\u001b[1m1500/1500\u001b[0m \u001b[32m━━━━━━━━━━━━━━━━━━━━\u001b[0m\u001b[37m\u001b[0m \u001b[1m476s\u001b[0m 318ms/step - accuracy: 0.9107 - loss: 0.2699 - precision: 0.9272 - recall: 0.8970 - top_1_accuracy: 0.9107 - val_accuracy: 0.9078 - val_loss: 0.2813 - val_precision: 0.9216 - val_recall: 0.8978 - val_top_1_accuracy: 0.9078 - learning_rate: 1.0000e-05\n",
      "Experiment: Dropout=0.4, Weight Decay=0.001\n",
      "Epoch 1/5\n"
     ]
    },
    {
     "name": "stderr",
     "output_type": "stream",
     "text": [
      "2025-05-25 06:49:06.972619: E tensorflow/core/grappler/optimizers/meta_optimizer.cc:961] PluggableGraphOptimizer failed: INVALID_ARGUMENT: Failed to deserialize the `graph_buf`.\n"
     ]
    },
    {
     "name": "stdout",
     "output_type": "stream",
     "text": [
      "\u001b[1m1500/1500\u001b[0m \u001b[32m━━━━━━━━━━━━━━━━━━━━\u001b[0m\u001b[37m\u001b[0m \u001b[1m0s\u001b[0m 715ms/step - accuracy: 0.6661 - loss: 1.2707 - precision: 0.8455 - recall: 0.4910 - top_1_accuracy: 0.6661"
     ]
    },
    {
     "name": "stderr",
     "output_type": "stream",
     "text": [
      "2025-05-25 07:07:06.964479: E tensorflow/core/grappler/optimizers/meta_optimizer.cc:961] PluggableGraphOptimizer failed: INVALID_ARGUMENT: Failed to deserialize the `graph_buf`.\n",
      "WARNING:absl:You are saving your model as an HDF5 file via `model.save()` or `keras.saving.save_model(model)`. This file format is considered legacy. We recommend using instead the native Keras format, e.g. `model.save('my_model.keras')` or `keras.saving.save_model(model, 'my_model.keras')`. \n"
     ]
    },
    {
     "name": "stdout",
     "output_type": "stream",
     "text": [
      "\u001b[1m1500/1500\u001b[0m \u001b[32m━━━━━━━━━━━━━━━━━━━━\u001b[0m\u001b[37m\u001b[0m \u001b[1m1124s\u001b[0m 743ms/step - accuracy: 0.6662 - loss: 1.2704 - precision: 0.8455 - recall: 0.4911 - top_1_accuracy: 0.6662 - val_accuracy: 0.8953 - val_loss: 0.5225 - val_precision: 0.9150 - val_recall: 0.8753 - val_top_1_accuracy: 0.8953 - learning_rate: 1.0000e-05\n",
      "Epoch 2/5\n",
      "\u001b[1m1500/1500\u001b[0m \u001b[32m━━━━━━━━━━━━━━━━━━━━\u001b[0m\u001b[37m\u001b[0m \u001b[1m0s\u001b[0m 234ms/step - accuracy: 0.8896 - loss: 0.5476 - precision: 0.9149 - recall: 0.8661 - top_1_accuracy: 0.8896"
     ]
    },
    {
     "name": "stderr",
     "output_type": "stream",
     "text": [
      "WARNING:absl:You are saving your model as an HDF5 file via `model.save()` or `keras.saving.save_model(model)`. This file format is considered legacy. We recommend using instead the native Keras format, e.g. `model.save('my_model.keras')` or `keras.saving.save_model(model, 'my_model.keras')`. \n"
     ]
    },
    {
     "name": "stdout",
     "output_type": "stream",
     "text": [
      "\u001b[1m1500/1500\u001b[0m \u001b[32m━━━━━━━━━━━━━━━━━━━━\u001b[0m\u001b[37m\u001b[0m \u001b[1m393s\u001b[0m 262ms/step - accuracy: 0.8896 - loss: 0.5476 - precision: 0.9149 - recall: 0.8661 - top_1_accuracy: 0.8896 - val_accuracy: 0.9062 - val_loss: 0.4888 - val_precision: 0.9198 - val_recall: 0.8931 - val_top_1_accuracy: 0.9062 - learning_rate: 1.0000e-05\n",
      "Epoch 3/5\n",
      "\u001b[1m1500/1500\u001b[0m \u001b[32m━━━━━━━━━━━━━━━━━━━━\u001b[0m\u001b[37m\u001b[0m \u001b[1m0s\u001b[0m 250ms/step - accuracy: 0.9029 - loss: 0.4981 - precision: 0.9223 - recall: 0.8874 - top_1_accuracy: 0.9029"
     ]
    },
    {
     "name": "stderr",
     "output_type": "stream",
     "text": [
      "WARNING:absl:You are saving your model as an HDF5 file via `model.save()` or `keras.saving.save_model(model)`. This file format is considered legacy. We recommend using instead the native Keras format, e.g. `model.save('my_model.keras')` or `keras.saving.save_model(model, 'my_model.keras')`. \n"
     ]
    },
    {
     "name": "stdout",
     "output_type": "stream",
     "text": [
      "\u001b[1m1500/1500\u001b[0m \u001b[32m━━━━━━━━━━━━━━━━━━━━\u001b[0m\u001b[37m\u001b[0m \u001b[1m419s\u001b[0m 279ms/step - accuracy: 0.9029 - loss: 0.4981 - precision: 0.9223 - recall: 0.8874 - top_1_accuracy: 0.9029 - val_accuracy: 0.9094 - val_loss: 0.4730 - val_precision: 0.9224 - val_recall: 0.8993 - val_top_1_accuracy: 0.9094 - learning_rate: 1.0000e-05\n",
      "Epoch 4/5\n",
      "\u001b[1m1500/1500\u001b[0m \u001b[32m━━━━━━━━━━━━━━━━━━━━\u001b[0m\u001b[37m\u001b[0m \u001b[1m0s\u001b[0m 283ms/step - accuracy: 0.9158 - loss: 0.4597 - precision: 0.9304 - recall: 0.9015 - top_1_accuracy: 0.9158"
     ]
    },
    {
     "name": "stderr",
     "output_type": "stream",
     "text": [
      "WARNING:absl:You are saving your model as an HDF5 file via `model.save()` or `keras.saving.save_model(model)`. This file format is considered legacy. We recommend using instead the native Keras format, e.g. `model.save('my_model.keras')` or `keras.saving.save_model(model, 'my_model.keras')`. \n"
     ]
    },
    {
     "name": "stdout",
     "output_type": "stream",
     "text": [
      "\u001b[1m1500/1500\u001b[0m \u001b[32m━━━━━━━━━━━━━━━━━━━━\u001b[0m\u001b[37m\u001b[0m \u001b[1m473s\u001b[0m 316ms/step - accuracy: 0.9158 - loss: 0.4597 - precision: 0.9304 - recall: 0.9015 - top_1_accuracy: 0.9158 - val_accuracy: 0.9125 - val_loss: 0.4638 - val_precision: 0.9245 - val_recall: 0.9038 - val_top_1_accuracy: 0.9125 - learning_rate: 1.0000e-05\n",
      "Epoch 5/5\n",
      "\u001b[1m1500/1500\u001b[0m \u001b[32m━━━━━━━━━━━━━━━━━━━━\u001b[0m\u001b[37m\u001b[0m \u001b[1m0s\u001b[0m 290ms/step - accuracy: 0.9254 - loss: 0.4330 - precision: 0.9380 - recall: 0.9133 - top_1_accuracy: 0.9254"
     ]
    },
    {
     "name": "stderr",
     "output_type": "stream",
     "text": [
      "WARNING:absl:You are saving your model as an HDF5 file via `model.save()` or `keras.saving.save_model(model)`. This file format is considered legacy. We recommend using instead the native Keras format, e.g. `model.save('my_model.keras')` or `keras.saving.save_model(model, 'my_model.keras')`. \n"
     ]
    },
    {
     "name": "stdout",
     "output_type": "stream",
     "text": [
      "\u001b[1m1500/1500\u001b[0m \u001b[32m━━━━━━━━━━━━━━━━━━━━\u001b[0m\u001b[37m\u001b[0m \u001b[1m485s\u001b[0m 323ms/step - accuracy: 0.9254 - loss: 0.4330 - precision: 0.9380 - recall: 0.9133 - top_1_accuracy: 0.9254 - val_accuracy: 0.9147 - val_loss: 0.4584 - val_precision: 0.9247 - val_recall: 0.9076 - val_top_1_accuracy: 0.9147 - learning_rate: 1.0000e-05\n"
     ]
    },
    {
     "name": "stderr",
     "output_type": "stream",
     "text": [
      "WARNING:absl:You are saving your model as an HDF5 file via `model.save()` or `keras.saving.save_model(model)`. This file format is considered legacy. We recommend using instead the native Keras format, e.g. `model.save('my_model.keras')` or `keras.saving.save_model(model, 'my_model.keras')`. \n"
     ]
    },
    {
     "name": "stdout",
     "output_type": "stream",
     "text": [
      "Experiment: Dropout=0.5, Weight Decay=0.0001\n",
      "Epoch 1/5\n"
     ]
    },
    {
     "name": "stderr",
     "output_type": "stream",
     "text": [
      "2025-05-25 07:37:19.560031: E tensorflow/core/grappler/optimizers/meta_optimizer.cc:961] PluggableGraphOptimizer failed: INVALID_ARGUMENT: Failed to deserialize the `graph_buf`.\n"
     ]
    },
    {
     "name": "stdout",
     "output_type": "stream",
     "text": [
      "\u001b[1m1500/1500\u001b[0m \u001b[32m━━━━━━━━━━━━━━━━━━━━\u001b[0m\u001b[37m\u001b[0m \u001b[1m0s\u001b[0m 931ms/step - accuracy: 0.6800 - loss: 1.0350 - precision: 0.8636 - recall: 0.5342 - top_1_accuracy: 0.6800"
     ]
    },
    {
     "name": "stderr",
     "output_type": "stream",
     "text": [
      "2025-05-25 08:00:40.861001: E tensorflow/core/grappler/optimizers/meta_optimizer.cc:961] PluggableGraphOptimizer failed: INVALID_ARGUMENT: Failed to deserialize the `graph_buf`.\n",
      "WARNING:absl:You are saving your model as an HDF5 file via `model.save()` or `keras.saving.save_model(model)`. This file format is considered legacy. We recommend using instead the native Keras format, e.g. `model.save('my_model.keras')` or `keras.saving.save_model(model, 'my_model.keras')`. \n"
     ]
    },
    {
     "name": "stdout",
     "output_type": "stream",
     "text": [
      "\u001b[1m1500/1500\u001b[0m \u001b[32m━━━━━━━━━━━━━━━━━━━━\u001b[0m\u001b[37m\u001b[0m \u001b[1m1463s\u001b[0m 972ms/step - accuracy: 0.6801 - loss: 1.0347 - precision: 0.8636 - recall: 0.5343 - top_1_accuracy: 0.6801 - val_accuracy: 0.9078 - val_loss: 0.2867 - val_precision: 0.9239 - val_recall: 0.8926 - val_top_1_accuracy: 0.9078 - learning_rate: 1.0000e-05\n",
      "Epoch 2/5\n",
      "\u001b[1m1500/1500\u001b[0m \u001b[32m━━━━━━━━━━━━━━━━━━━━\u001b[0m\u001b[37m\u001b[0m \u001b[1m0s\u001b[0m 327ms/step - accuracy: 0.9079 - loss: 0.2946 - precision: 0.9286 - recall: 0.8879 - top_1_accuracy: 0.9079"
     ]
    },
    {
     "name": "stderr",
     "output_type": "stream",
     "text": [
      "WARNING:absl:You are saving your model as an HDF5 file via `model.save()` or `keras.saving.save_model(model)`. This file format is considered legacy. We recommend using instead the native Keras format, e.g. `model.save('my_model.keras')` or `keras.saving.save_model(model, 'my_model.keras')`. \n"
     ]
    },
    {
     "name": "stdout",
     "output_type": "stream",
     "text": [
      "\u001b[1m1500/1500\u001b[0m \u001b[32m━━━━━━━━━━━━━━━━━━━━\u001b[0m\u001b[37m\u001b[0m \u001b[1m552s\u001b[0m 368ms/step - accuracy: 0.9079 - loss: 0.2946 - precision: 0.9286 - recall: 0.8879 - top_1_accuracy: 0.9079 - val_accuracy: 0.9146 - val_loss: 0.2669 - val_precision: 0.9266 - val_recall: 0.9042 - val_top_1_accuracy: 0.9146 - learning_rate: 1.0000e-05\n",
      "Epoch 3/5\n",
      "\u001b[1m1500/1500\u001b[0m \u001b[32m━━━━━━━━━━━━━━━━━━━━\u001b[0m\u001b[37m\u001b[0m \u001b[1m0s\u001b[0m 358ms/step - accuracy: 0.9186 - loss: 0.2571 - precision: 0.9345 - recall: 0.9049 - top_1_accuracy: 0.9186"
     ]
    },
    {
     "name": "stderr",
     "output_type": "stream",
     "text": [
      "WARNING:absl:You are saving your model as an HDF5 file via `model.save()` or `keras.saving.save_model(model)`. This file format is considered legacy. We recommend using instead the native Keras format, e.g. `model.save('my_model.keras')` or `keras.saving.save_model(model, 'my_model.keras')`. \n"
     ]
    },
    {
     "name": "stdout",
     "output_type": "stream",
     "text": [
      "\u001b[1m1500/1500\u001b[0m \u001b[32m━━━━━━━━━━━━━━━━━━━━\u001b[0m\u001b[37m\u001b[0m \u001b[1m601s\u001b[0m 400ms/step - accuracy: 0.9186 - loss: 0.2571 - precision: 0.9345 - recall: 0.9049 - top_1_accuracy: 0.9186 - val_accuracy: 0.9151 - val_loss: 0.2617 - val_precision: 0.9264 - val_recall: 0.9069 - val_top_1_accuracy: 0.9151 - learning_rate: 1.0000e-05\n",
      "Epoch 4/5\n",
      "\u001b[1m1500/1500\u001b[0m \u001b[32m━━━━━━━━━━━━━━━━━━━━\u001b[0m\u001b[37m\u001b[0m \u001b[1m0s\u001b[0m 367ms/step - accuracy: 0.9259 - loss: 0.2372 - precision: 0.9388 - recall: 0.9145 - top_1_accuracy: 0.9259"
     ]
    },
    {
     "name": "stderr",
     "output_type": "stream",
     "text": [
      "WARNING:absl:You are saving your model as an HDF5 file via `model.save()` or `keras.saving.save_model(model)`. This file format is considered legacy. We recommend using instead the native Keras format, e.g. `model.save('my_model.keras')` or `keras.saving.save_model(model, 'my_model.keras')`. \n"
     ]
    },
    {
     "name": "stdout",
     "output_type": "stream",
     "text": [
      "\u001b[1m1500/1500\u001b[0m \u001b[32m━━━━━━━━━━━━━━━━━━━━\u001b[0m\u001b[37m\u001b[0m \u001b[1m615s\u001b[0m 410ms/step - accuracy: 0.9259 - loss: 0.2372 - precision: 0.9388 - recall: 0.9145 - top_1_accuracy: 0.9259 - val_accuracy: 0.9168 - val_loss: 0.2634 - val_precision: 0.9277 - val_recall: 0.9097 - val_top_1_accuracy: 0.9168 - learning_rate: 1.0000e-05\n",
      "Epoch 5/5\n",
      "\u001b[1m1500/1500\u001b[0m \u001b[32m━━━━━━━━━━━━━━━━━━━━\u001b[0m\u001b[37m\u001b[0m \u001b[1m0s\u001b[0m 380ms/step - accuracy: 0.9342 - loss: 0.2128 - precision: 0.9451 - recall: 0.9246 - top_1_accuracy: 0.9342"
     ]
    },
    {
     "name": "stderr",
     "output_type": "stream",
     "text": [
      "WARNING:absl:You are saving your model as an HDF5 file via `model.save()` or `keras.saving.save_model(model)`. This file format is considered legacy. We recommend using instead the native Keras format, e.g. `model.save('my_model.keras')` or `keras.saving.save_model(model, 'my_model.keras')`. \n"
     ]
    },
    {
     "name": "stdout",
     "output_type": "stream",
     "text": [
      "\u001b[1m1500/1500\u001b[0m \u001b[32m━━━━━━━━━━━━━━━━━━━━\u001b[0m\u001b[37m\u001b[0m \u001b[1m619s\u001b[0m 413ms/step - accuracy: 0.9342 - loss: 0.2128 - precision: 0.9451 - recall: 0.9246 - top_1_accuracy: 0.9342 - val_accuracy: 0.9170 - val_loss: 0.2645 - val_precision: 0.9266 - val_recall: 0.9111 - val_top_1_accuracy: 0.9170 - learning_rate: 1.0000e-05\n"
     ]
    },
    {
     "name": "stderr",
     "output_type": "stream",
     "text": [
      "WARNING:absl:You are saving your model as an HDF5 file via `model.save()` or `keras.saving.save_model(model)`. This file format is considered legacy. We recommend using instead the native Keras format, e.g. `model.save('my_model.keras')` or `keras.saving.save_model(model, 'my_model.keras')`. \n"
     ]
    },
    {
     "name": "stdout",
     "output_type": "stream",
     "text": [
      "Experiment: Dropout=0.5, Weight Decay=0.001\n",
      "Epoch 1/5\n"
     ]
    },
    {
     "name": "stderr",
     "output_type": "stream",
     "text": [
      "2025-05-25 08:41:29.464471: E tensorflow/core/grappler/optimizers/meta_optimizer.cc:961] PluggableGraphOptimizer failed: INVALID_ARGUMENT: Failed to deserialize the `graph_buf`.\n"
     ]
    },
    {
     "name": "stdout",
     "output_type": "stream",
     "text": [
      "\u001b[1m1500/1500\u001b[0m \u001b[32m━━━━━━━━━━━━━━━━━━━━\u001b[0m\u001b[37m\u001b[0m \u001b[1m0s\u001b[0m 269ms/step - accuracy: 0.7042 - loss: 1.1559 - precision: 0.8667 - recall: 0.5506 - top_1_accuracy: 0.7042"
     ]
    },
    {
     "name": "stderr",
     "output_type": "stream",
     "text": [
      "2025-05-25 08:48:23.168097: E tensorflow/core/grappler/optimizers/meta_optimizer.cc:961] PluggableGraphOptimizer failed: INVALID_ARGUMENT: Failed to deserialize the `graph_buf`.\n",
      "WARNING:absl:You are saving your model as an HDF5 file via `model.save()` or `keras.saving.save_model(model)`. This file format is considered legacy. We recommend using instead the native Keras format, e.g. `model.save('my_model.keras')` or `keras.saving.save_model(model, 'my_model.keras')`. \n"
     ]
    },
    {
     "name": "stdout",
     "output_type": "stream",
     "text": [
      "\u001b[1m1500/1500\u001b[0m \u001b[32m━━━━━━━━━━━━━━━━━━━━\u001b[0m\u001b[37m\u001b[0m \u001b[1m463s\u001b[0m 302ms/step - accuracy: 0.7043 - loss: 1.1557 - precision: 0.8668 - recall: 0.5508 - top_1_accuracy: 0.7043 - val_accuracy: 0.9069 - val_loss: 0.5008 - val_precision: 0.9252 - val_recall: 0.8917 - val_top_1_accuracy: 0.9069 - learning_rate: 1.0000e-05\n",
      "Epoch 2/5\n",
      "\u001b[1m1500/1500\u001b[0m \u001b[32m━━━━━━━━━━━━━━━━━━━━\u001b[0m\u001b[37m\u001b[0m \u001b[1m0s\u001b[0m 282ms/step - accuracy: 0.9096 - loss: 0.4948 - precision: 0.9280 - recall: 0.8922 - top_1_accuracy: 0.9096"
     ]
    },
    {
     "name": "stderr",
     "output_type": "stream",
     "text": [
      "WARNING:absl:You are saving your model as an HDF5 file via `model.save()` or `keras.saving.save_model(model)`. This file format is considered legacy. We recommend using instead the native Keras format, e.g. `model.save('my_model.keras')` or `keras.saving.save_model(model, 'my_model.keras')`. \n"
     ]
    },
    {
     "name": "stdout",
     "output_type": "stream",
     "text": [
      "\u001b[1m1500/1500\u001b[0m \u001b[32m━━━━━━━━━━━━━━━━━━━━\u001b[0m\u001b[37m\u001b[0m \u001b[1m472s\u001b[0m 315ms/step - accuracy: 0.9096 - loss: 0.4947 - precision: 0.9280 - recall: 0.8922 - top_1_accuracy: 0.9096 - val_accuracy: 0.9177 - val_loss: 0.4718 - val_precision: 0.9291 - val_recall: 0.9062 - val_top_1_accuracy: 0.9177 - learning_rate: 1.0000e-05\n",
      "Epoch 3/5\n",
      "\u001b[1m1500/1500\u001b[0m \u001b[32m━━━━━━━━━━━━━━━━━━━━\u001b[0m\u001b[37m\u001b[0m \u001b[1m0s\u001b[0m 292ms/step - accuracy: 0.9215 - loss: 0.4511 - precision: 0.9354 - recall: 0.9076 - top_1_accuracy: 0.9215"
     ]
    },
    {
     "name": "stderr",
     "output_type": "stream",
     "text": [
      "WARNING:absl:You are saving your model as an HDF5 file via `model.save()` or `keras.saving.save_model(model)`. This file format is considered legacy. We recommend using instead the native Keras format, e.g. `model.save('my_model.keras')` or `keras.saving.save_model(model, 'my_model.keras')`. \n"
     ]
    },
    {
     "name": "stdout",
     "output_type": "stream",
     "text": [
      "\u001b[1m1500/1500\u001b[0m \u001b[32m━━━━━━━━━━━━━━━━━━━━\u001b[0m\u001b[37m\u001b[0m \u001b[1m487s\u001b[0m 325ms/step - accuracy: 0.9215 - loss: 0.4511 - precision: 0.9354 - recall: 0.9076 - top_1_accuracy: 0.9215 - val_accuracy: 0.9179 - val_loss: 0.4659 - val_precision: 0.9287 - val_recall: 0.9082 - val_top_1_accuracy: 0.9179 - learning_rate: 1.0000e-05\n",
      "Epoch 4/5\n",
      "\u001b[1m1500/1500\u001b[0m \u001b[32m━━━━━━━━━━━━━━━━━━━━\u001b[0m\u001b[37m\u001b[0m \u001b[1m0s\u001b[0m 308ms/step - accuracy: 0.9297 - loss: 0.4278 - precision: 0.9419 - recall: 0.9179 - top_1_accuracy: 0.9297"
     ]
    },
    {
     "name": "stderr",
     "output_type": "stream",
     "text": [
      "WARNING:absl:You are saving your model as an HDF5 file via `model.save()` or `keras.saving.save_model(model)`. This file format is considered legacy. We recommend using instead the native Keras format, e.g. `model.save('my_model.keras')` or `keras.saving.save_model(model, 'my_model.keras')`. \n"
     ]
    },
    {
     "name": "stdout",
     "output_type": "stream",
     "text": [
      "\u001b[1m1500/1500\u001b[0m \u001b[32m━━━━━━━━━━━━━━━━━━━━\u001b[0m\u001b[37m\u001b[0m \u001b[1m516s\u001b[0m 344ms/step - accuracy: 0.9297 - loss: 0.4278 - precision: 0.9419 - recall: 0.9179 - top_1_accuracy: 0.9297 - val_accuracy: 0.9186 - val_loss: 0.4651 - val_precision: 0.9274 - val_recall: 0.9115 - val_top_1_accuracy: 0.9186 - learning_rate: 1.0000e-05\n",
      "Epoch 5/5\n",
      "\u001b[1m1500/1500\u001b[0m \u001b[32m━━━━━━━━━━━━━━━━━━━━\u001b[0m\u001b[37m\u001b[0m \u001b[1m0s\u001b[0m 307ms/step - accuracy: 0.9344 - loss: 0.4028 - precision: 0.9439 - recall: 0.9247 - top_1_accuracy: 0.9344"
     ]
    },
    {
     "name": "stderr",
     "output_type": "stream",
     "text": [
      "WARNING:absl:You are saving your model as an HDF5 file via `model.save()` or `keras.saving.save_model(model)`. This file format is considered legacy. We recommend using instead the native Keras format, e.g. `model.save('my_model.keras')` or `keras.saving.save_model(model, 'my_model.keras')`. \n"
     ]
    },
    {
     "name": "stdout",
     "output_type": "stream",
     "text": [
      "\u001b[1m1500/1500\u001b[0m \u001b[32m━━━━━━━━━━━━━━━━━━━━\u001b[0m\u001b[37m\u001b[0m \u001b[1m511s\u001b[0m 340ms/step - accuracy: 0.9344 - loss: 0.4028 - precision: 0.9439 - recall: 0.9247 - top_1_accuracy: 0.9344 - val_accuracy: 0.9200 - val_loss: 0.4561 - val_precision: 0.9286 - val_recall: 0.9129 - val_top_1_accuracy: 0.9200 - learning_rate: 1.0000e-05\n"
     ]
    },
    {
     "name": "stderr",
     "output_type": "stream",
     "text": [
      "WARNING:absl:You are saving your model as an HDF5 file via `model.save()` or `keras.saving.save_model(model)`. This file format is considered legacy. We recommend using instead the native Keras format, e.g. `model.save('my_model.keras')` or `keras.saving.save_model(model, 'my_model.keras')`. \n"
     ]
    },
    {
     "name": "stdout",
     "output_type": "stream",
     "text": [
      "Loading best model (Dropout=0.5, Weight Decay=0.001)\n"
     ]
    },
    {
     "name": "stderr",
     "output_type": "stream",
     "text": [
      "WARNING:absl:Compiled the loaded model, but the compiled metrics have yet to be built. `model.compile_metrics` will be empty until you train or evaluate the model.\n"
     ]
    }
   ],
   "source": [
    "# Fine-Tuning Experiments\n",
    "print(\"Preparing fine-tuning...\")\n",
    "base_model.trainable = True\n",
    "for layer in base_model.layers[:-30]:\n",
    "    layer.trainable = False\n",
    "\n",
    "# Experiment configurations\n",
    "dropout_rates = [0.3, 0.4, 0.5]\n",
    "weight_decays = [0.0001, 0.001]\n",
    "best_acc = 0\n",
    "best_config = None\n",
    "best_model_path = 'best_model_finetuned.h5'\n",
    "fine_tune_histories = []\n",
    "\n",
    "for dropout_rate in dropout_rates:\n",
    "    for weight_decay in weight_decays:\n",
    "        print(f\"Experiment: Dropout={dropout_rate}, Weight Decay={weight_decay}\")\n",
    "        x = model_input\n",
    "        x = Conv2D(3, (1, 1), activation='linear', trainable=True, \n",
    "                   name=f'channel_adapter_dr{dropout_rate}_wd{weight_decay}')(x)\n",
    "        x = base_model(x, training=False)\n",
    "        x = GlobalAveragePooling2D(name=f'global_avg_pool_dr{dropout_rate}_wd{weight_decay}')(x)\n",
    "        x = Dropout(dropout_rate, name=f'dropout_dr{dropout_rate}_wd{weight_decay}')(x)\n",
    "        x = Dense(128, activation='relu', kernel_regularizer=regularizers.l2(weight_decay), \n",
    "                  name=f'dense_dr{dropout_rate}_wd{weight_decay}')(x)\n",
    "        output = Dense(10, activation='softmax', dtype='float32', \n",
    "                       name=f'output_dr{dropout_rate}_wd{weight_decay}')(x)\n",
    "        \n",
    "        model = Model(inputs=model_input, outputs=output)\n",
    "        model.compile(\n",
    "            optimizer=Adam(1e-5),\n",
    "            loss=tf.keras.losses.CategoricalCrossentropy(from_logits=False),\n",
    "            metrics=[\n",
    "                'accuracy',\n",
    "                tf.keras.metrics.Precision(name='precision'),\n",
    "                tf.keras.metrics.Recall(name='recall'),\n",
    "                tf.keras.metrics.TopKCategoricalAccuracy(k=1, name='top_1_accuracy')\n",
    "            ]\n",
    "        )\n",
    "        \n",
    "        checkpoint = ModelCheckpoint(f'model_dr{dropout_rate}_wd{weight_decay}.h5', \n",
    "                                    monitor='val_accuracy', save_best_only=True, mode='max')\n",
    "        lr_scheduler = ReduceLROnPlateau(monitor='val_loss', factor=0.5, patience=2)\n",
    "        \n",
    "        try:\n",
    "            history = model.fit(train_ds, validation_data=val_ds, epochs=5, \n",
    "                               callbacks=[checkpoint, early_stop, lr_scheduler])\n",
    "            fine_tune_histories.append((history, dropout_rate, weight_decay))\n",
    "        except Exception as e:\n",
    "            print(f\"Error during fine-tuning (Dropout={dropout_rate}, Weight Decay={weight_decay}): {e}\")\n",
    "            continue\n",
    "        \n",
    "        val_acc = max(history.history['val_accuracy'])\n",
    "        if val_acc > best_acc:\n",
    "            best_acc = val_acc\n",
    "            best_config = (dropout_rate, weight_decay)\n",
    "            try:\n",
    "                model.save(best_model_path)\n",
    "            except Exception as e:\n",
    "                print(f\"Error saving model: {e}\")\n",
    "# Load best fine-tuned model\n",
    "if best_config is not None:\n",
    "    print(f\"Loading best model (Dropout={best_config[0]}, Weight Decay={best_config[1]})\")\n",
    "    try:\n",
    "        model = tf.keras.models.load_model(best_model_path)\n",
    "    except Exception as e:\n",
    "        print(f\"Error loading best model: {e}\")\n",
    "        raise\n",
    "else:\n",
    "    print(\"No fine-tuning experiments completed successfully; using head-trained model\")\n",
    "\n"
   ]
  },
  {
   "cell_type": "code",
   "execution_count": 9,
   "id": "ed4f5eae-7cfc-47c6-bc7a-aa1a80e68818",
   "metadata": {},
   "outputs": [
    {
     "name": "stdout",
     "output_type": "stream",
     "text": [
      "Evaluating on test set...\n"
     ]
    },
    {
     "name": "stderr",
     "output_type": "stream",
     "text": [
      "2025-05-25 09:26:47.651512: E tensorflow/core/grappler/optimizers/meta_optimizer.cc:961] PluggableGraphOptimizer failed: INVALID_ARGUMENT: Failed to deserialize the `graph_buf`.\n"
     ]
    },
    {
     "name": "stdout",
     "output_type": "stream",
     "text": [
      "\u001b[1m312/312\u001b[0m \u001b[32m━━━━━━━━━━━━━━━━━━━━\u001b[0m\u001b[37m\u001b[0m \u001b[1m36s\u001b[0m 109ms/step - accuracy: 0.9168 - loss: 0.4569 - precision: 0.9282 - recall: 0.9090 - top_1_accuracy: 0.9168\n",
      "Test Metrics: {'accuracy': 0.9199719429016113, 'loss': 0.4526265859603882, 'precision': 0.9293578267097473, 'recall': 0.913161039352417, 'top_1_accuracy': 0.9199719429016113}\n"
     ]
    }
   ],
   "source": [
    "# Resize and normalize the test data\n",
    "X_test = test_data.drop('label', axis=1).values / 255.0\n",
    "X_test = X_test.reshape(-1,28,28,1)\n",
    "Y_test = test_data['label'].values\n",
    "\n",
    "test_ds = tf.data.Dataset.from_tensor_slices((X_test, Y_test))\n",
    "test_ds = test_ds.map(preprocess, num_parallel_calls=tf.data.AUTOTUNE)\n",
    "test_ds = test_ds.cache().batch(BATCH_SIZE, drop_remainder=True).prefetch(tf.data.AUTOTUNE)\n",
    "\n",
    "\n",
    "# Evaluate on test set\n",
    "print(\"Evaluating on test set...\")\n",
    "test_metrics = model.evaluate(test_ds, return_dict=True)\n",
    "print(f\"Test Metrics: {test_metrics}\")\n",
    "\n"
   ]
  },
  {
   "cell_type": "code",
   "execution_count": 11,
   "id": "c1e54b2f-fe29-47d4-adb0-385c9e431c06",
   "metadata": {},
   "outputs": [
    {
     "name": "stdout",
     "output_type": "stream",
     "text": [
      "Classification Report:\n",
      "              precision    recall  f1-score   support\n",
      "\n",
      " T-shirt/top       0.85      0.87      0.86       996\n",
      "     Trouser       0.99      0.99      0.99       999\n",
      "    Pullover       0.89      0.89      0.89      1000\n",
      "       Dress       0.91      0.93      0.92      1000\n",
      "        Coat       0.87      0.90      0.89       999\n",
      "      Sandal       0.98      0.97      0.98       999\n",
      "       Shirt       0.80      0.73      0.76       998\n",
      "     Sneaker       0.95      0.96      0.95       998\n",
      "         Bag       0.98      1.00      0.99       997\n",
      "  Ankle boot       0.96      0.97      0.96       998\n",
      "\n",
      "    accuracy                           0.92      9984\n",
      "   macro avg       0.92      0.92      0.92      9984\n",
      "weighted avg       0.92      0.92      0.92      9984\n",
      "\n"
     ]
    },
    {
     "name": "stderr",
     "output_type": "stream",
     "text": [
      "2025-05-25 09:29:47.117732: W tensorflow/core/framework/local_rendezvous.cc:404] Local rendezvous is aborting with status: OUT_OF_RANGE: End of sequence\n"
     ]
    }
   ],
   "source": [
    "# Convert one-hot encoded labels to class indices\n",
    "Y_true = np.concatenate([y for _, y in test_ds], axis=0)\n",
    "Y_true = np.argmax(Y_true, axis=1)  # Add this line\n",
    "\n",
    "class_names = ['T-shirt/top', 'Trouser', 'Pullover', 'Dress', 'Coat', \n",
    "               'Sandal', 'Shirt', 'Sneaker', 'Bag', 'Ankle boot']\n",
    "\n",
    "report = classification_report(Y_true, Y_pred_classes, target_names=class_names)\n",
    "print(f\"Classification Report:\\n{report}\")\n",
    "\n"
   ]
  },
  {
   "cell_type": "code",
   "execution_count": 12,
   "id": "2135d5b3-9354-4f03-92ab-dcf76a8a3819",
   "metadata": {},
   "outputs": [
    {
     "data": {
      "image/png": "[encoded data removed]",
      "text/plain": [
       "<Figure size 1200x400 with 2 Axes>"
      ]
     },
     "metadata": {},
     "output_type": "display_data"
    }
   ],
   "source": [
    "# Plot training curves\n",
    "plt.figure(figsize=(12, 4))\n",
    "plt.subplot(1, 2, 1)\n",
    "plt.plot(history_head.history['accuracy'], label='Train Accuracy')\n",
    "plt.plot(history_head.history['val_accuracy'], label='Val Accuracy')\n",
    "plt.title('Accuracy Curves')\n",
    "plt.xlabel('Epoch')\n",
    "plt.ylabel('Accuracy')\n",
    "plt.legend()\n",
    "\n",
    "plt.subplot(1, 2, 2)\n",
    "plt.plot(history_head.history['loss'], label='Train Loss')\n",
    "plt.plot(history_head.history['val_loss'], label='Val Loss')\n",
    "plt.title('Loss Curves')\n",
    "plt.xlabel('Epoch')\n",
    "plt.ylabel('Loss')\n",
    "plt.legend()\n",
    "plt.savefig('training_curves.png')\n",
    "plt.show()\n"
   ]
  },
  {
   "cell_type": "code",
   "execution_count": 13,
   "id": "b754d079-beaa-47a1-b749-a9e47c20f900",
   "metadata": {},
   "outputs": [
    {
     "name": "stdout",
     "output_type": "stream",
     "text": [
      "Submission file saved as submission.csv\n"
     ]
    }
   ],
   "source": [
    "# Generate submission\n",
    "submission_df = pd.DataFrame({'Id': range(len(Y_pred_classes)), 'Label': Y_pred_classes})\n",
    "submission_df.to_csv('submission.csv', index=False)\n",
    "print(\"Submission file saved as submission.csv\")"
   ]
  },
  {
   "cell_type": "code",
   "execution_count": null,
   "id": "59b9dc39-ecbf-473c-b360-0df8e08322c7",
   "metadata": {},
   "outputs": [],
   "source": [
    "plt"
   ]
  }
 ],
 "metadata": {
  "kernelspec": {
   "display_name": "Python (cv_env)",
   "language": "python",
   "name": "cv_env"
  },
  "language_info": {
   "codemirror_mode": {
    "name": "ipython",
    "version": 3
   },
   "file_extension": ".py",
   "mimetype": "text/x-python",
   "name": "python",
   "nbconvert_exporter": "python",
   "pygments_lexer": "ipython3",
   "version": "3.12.9"
  }
 },
 "nbformat": 4,
 "nbformat_minor": 5
}
